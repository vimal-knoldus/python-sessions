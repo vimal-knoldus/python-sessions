{
 "cells": [
  {
   "cell_type": "code",
   "execution_count": 3,
   "id": "32bdcb5d-8b05-48e7-ba2d-f751a6fb2562",
   "metadata": {},
   "outputs": [
    {
     "name": "stdout",
     "output_type": "stream",
     "text": [
      "Dataset     Id  SepalLengthCm  SepalWidthCm  PetalLengthCm  PetalWidthCm  \\\n",
      "0  144            6.8           3.2            5.9           2.3   \n",
      "1   92            6.1           3.0            4.6           1.4   \n",
      "2   83            5.8           2.7            3.9           1.2   \n",
      "3   26            5.0           3.0            1.6           0.2   \n",
      "4  115            5.8           2.8            5.1           2.4   \n",
      "\n",
      "           Species  \n",
      "0   Iris-virginica  \n",
      "1  Iris-versicolor  \n",
      "2  Iris-versicolor  \n",
      "3      Iris-setosa  \n",
      "4   Iris-virginica  \n"
     ]
    }
   ],
   "source": [
    "import pandas as pd\n",
    "\n",
    "# Load the dataset\n",
    "data = pd.read_csv('/home/nashtech/Documents/dataset.csv')\n",
    "print(f\"Dataset {data}\")"
   ]
  },
  {
   "cell_type": "code",
   "execution_count": 5,
   "id": "99130ae0-abeb-4b34-b0f2-0d9b988e900d",
   "metadata": {},
   "outputs": [
    {
     "name": "stdout",
     "output_type": "stream",
     "text": [
      "Column Names: ['Id', 'SepalLengthCm', 'SepalWidthCm', 'PetalLengthCm', 'PetalWidthCm', 'Species']\n",
      "\n",
      "Data Types:\n",
      " Id                 int64\n",
      "SepalLengthCm    float64\n",
      "SepalWidthCm     float64\n",
      "PetalLengthCm    float64\n",
      "PetalWidthCm     float64\n",
      "Species           object\n",
      "dtype: object\n",
      "\n",
      "Missing Values:\n",
      " Id               0\n",
      "SepalLengthCm    0\n",
      "SepalWidthCm     0\n",
      "PetalLengthCm    0\n",
      "PetalWidthCm     0\n",
      "Species          0\n",
      "dtype: int64\n"
     ]
    }
   ],
   "source": [
    "# Column names\n",
    "print(\"Column Names:\", data.columns.tolist())\n",
    "\n",
    "# Data types\n",
    "print(\"\\nData Types:\\n\", data.dtypes)\n",
    "\n",
    "# Null values\n",
    "print(\"\\nMissing Values:\\n\", data.isnull().sum())\n"
   ]
  },
  {
   "cell_type": "code",
   "execution_count": 6,
   "id": "1a71313b-757e-4df5-b8b6-31ad78eacd12",
   "metadata": {},
   "outputs": [
    {
     "name": "stdout",
     "output_type": "stream",
     "text": [
      "\n",
      "Dataset Summary:\n",
      " {'rows': 5, 'columns': 6, 'column_names': ['Id', 'SepalLengthCm', 'SepalWidthCm', 'PetalLengthCm', 'PetalWidthCm', 'Species']}\n"
     ]
    }
   ],
   "source": [
    "def describe_dataset(df):\n",
    "    return {\n",
    "        \"rows\": df.shape[0],\n",
    "        \"columns\": df.shape[1],\n",
    "        \"column_names\": df.columns.tolist()\n",
    "    }\n",
    "\n",
    "# Call the function\n",
    "summary = describe_dataset(data)\n",
    "print(\"\\nDataset Summary:\\n\", summary)\n"
   ]
  },
  {
   "cell_type": "code",
   "execution_count": 8,
   "id": "1b94e5c5-f226-4e5a-8174-932f9c5f1a81",
   "metadata": {},
   "outputs": [
    {
     "name": "stdout",
     "output_type": "stream",
     "text": [
      "    Id  SepalLengthCm  SepalWidthCm  PetalLengthCm  PetalWidthCm  \\\n",
      "0  144            6.8           3.2            5.9           2.3   \n",
      "1   92            6.1           3.0            4.6           1.4   \n",
      "2   83            5.8           2.7            3.9           1.2   \n",
      "3   26            5.0           3.0            1.6           0.2   \n",
      "4  115            5.8           2.8            5.1           2.4   \n",
      "\n",
      "           Species  \n",
      "0   IRIS-VIRGINICA  \n",
      "1  IRIS-VERSICOLOR  \n",
      "2  IRIS-VERSICOLOR  \n",
      "3      IRIS-SETOSA  \n",
      "4   IRIS-VIRGINICA  \n"
     ]
    }
   ],
   "source": [
    "def remove_invalid_rows(df):\n",
    "    rows = df.to_dict(orient='records')\n",
    "    valid_rows = list(filter(lambda row: all(pd.notnull(v) for v in row.values()), rows))\n",
    "    return pd.DataFrame(valid_rows)\n",
    "\n",
    "\n",
    "def normalize_text_columns(df):\n",
    "    def normalize_value(val):\n",
    "        if isinstance(val, str):\n",
    "            return val.strip().upper()\n",
    "        return val\n",
    "\n",
    "    rows = df.to_dict(orient='records')\n",
    "    normalized_rows = [\n",
    "        {k: normalize_value(v) for k, v in row.items()}\n",
    "        for row in rows\n",
    "    ]\n",
    "    return pd.DataFrame(normalized_rows)\n",
    "\n",
    "# Step 1: Remove invalid rows\n",
    "clean_df = remove_invalid_rows(data)\n",
    "\n",
    "# Step 2: Normalize text fields\n",
    "normalized_df = normalize_text_columns(clean_df)\n",
    "\n",
    "# Show result\n",
    "print(normalized_df.head())\n"
   ]
  },
  {
   "cell_type": "code",
   "execution_count": null,
   "id": "c766850c-3ab6-4937-8dd0-63f4d03f62c7",
   "metadata": {},
   "outputs": [],
   "source": []
  }
 ],
 "metadata": {
  "kernelspec": {
   "display_name": "Python 3 (ipykernel)",
   "language": "python",
   "name": "python3"
  },
  "language_info": {
   "codemirror_mode": {
    "name": "ipython",
    "version": 3
   },
   "file_extension": ".py",
   "mimetype": "text/x-python",
   "name": "python",
   "nbconvert_exporter": "python",
   "pygments_lexer": "ipython3",
   "version": "3.10.12"
  }
 },
 "nbformat": 4,
 "nbformat_minor": 5
}
